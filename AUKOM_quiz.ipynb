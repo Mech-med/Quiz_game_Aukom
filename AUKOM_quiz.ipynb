{
 "cells": [
  {
   "cell_type": "code",
   "execution_count": null,
   "metadata": {},
   "outputs": [],
   "source": [
    "from PIL import Image\n",
    "import io\n",
    "import matplotlib.pyplot as plt"
   ]
  },
  {
   "cell_type": "code",
   "execution_count": null,
   "metadata": {},
   "outputs": [],
   "source": [
    "print(\"AUKOM quiz preparation!\")\n",
    "\n",
    "playing = input(\"Shall we start? \")\n",
    "\n",
    "if playing.lower() not in [\"yes\", \"y\", \"ye\", \"yes!\"]:\n",
    "    quit()"
   ]
  },
  {
   "cell_type": "code",
   "execution_count": null,
   "metadata": {},
   "outputs": [],
   "source": [
    "print(\"Great :)\")\n",
    "score = 0\n",
    "\n",
    "\n",
    "\n"
   ]
  },
  {
   "cell_type": "code",
   "execution_count": null,
   "metadata": {},
   "outputs": [],
   "source": [
    "answer = input(\"\"\"Which of the following is not a measuring device? \n",
    "               a = Micrometer, \n",
    "               b = Dial indicator, \n",
    "               c = CMM , \n",
    "               d = Gap gage \\n Answer:\"\"\")\n",
    "answer = answer.strip()\n",
    "if answer.lower() == \"d\":\n",
    "    print('Correct!')\n",
    "    score += 1\n",
    "else:\n",
    "    print(\"Incorrect!\")\n",
    "\n",
    "answer = input(\"\"\"Which principle covers the complete gaging of a geometric element? \n",
    "               a = The golden rule of metrology, b = Taylor's principle, \n",
    "               c = The Abbe comparator principle \\n Answer:\"\"\")\n",
    "answer = answer.strip()\n",
    "if answer.lower() == \"b\":\n",
    "    print('Correct!')\n",
    "    score += 1\n",
    "else:\n",
    "    print(\"Incorrect!\")\n",
    "\n",
    "answer = input(\"Calculate the mean of the following measurement series: Values 1.1 1.1 1.5 1.2 1.1 \\n Answer:\")\n",
    "answer = answer.strip()\n",
    "if answer.lower() in [\"1.2\", \"1,2\"]:\n",
    "    print('Correct!')\n",
    "    score += 1\n",
    "else:\n",
    "    print(\"Incorrect!\")"
   ]
  },
  {
   "cell_type": "code",
   "execution_count": null,
   "metadata": {},
   "outputs": [],
   "source": [
    "answer = input(\"Calculate the Range of the following measurement series: Values 1.1 1.1 1.5 1.2 1.1 \")\n",
    "answer = answer.strip()\n",
    "if answer.lower() in [\"0.4\", \"0,4\"]:\n",
    "    print('Correct!')\n",
    "    score += 1\n",
    "else:\n",
    "    print(\"Incorrect!\")\n",
    "\n",
    "answer = input(\"The Point(2,190°) is in: a = 1st Quadrant, b = 2nd Quadrant, c = 3rd Quadrant, d = 4th Quadrant\")\n",
    "answer = answer.strip()\n",
    "if answer.lower() == \"c\":\n",
    "    print('Correct!')\n",
    "    score += 1\n",
    "else:\n",
    "    print(\"Incorrect!\")"
   ]
  },
  {
   "cell_type": "code",
   "execution_count": null,
   "metadata": {},
   "outputs": [],
   "source": [
    "expected_answers = [\"Bright_field_incident_light\", \"Dark_field_incident_light\", \"Transmitted_light\"]\n",
    "answer = input(\"\"\"Which of the following are illumination types for optical sensors?\n",
    "                Asparagus_field_incident_light\n",
    "                Bright_field_incident_light\n",
    "                Grey_light\n",
    "                Dark_room\n",
    "                Dark_field_incident_light\n",
    "                Transmitted_light\n",
    "               Answer:\"\"\")\n",
    "\n",
    "user_words = set(word.lower() for word in answer.split())\n",
    "expected_answer = [ans.lower() for ans in expected_answers]\n",
    "matching_words = set(user_words) & set(expected_answer)\n",
    "\n",
    "if len(matching_words) >= 3:\n",
    "    print(\"Correct!\")\n",
    "    score += 1\n",
    "else:\n",
    "    print(\"Incorrect.\")\n"
   ]
  },
  {
   "cell_type": "code",
   "execution_count": null,
   "metadata": {},
   "outputs": [],
   "source": [
    "answer = input(\"The Point(2,190°) is in: \\n a = 1st Quadrant, b = 2nd Quadrant, c = 3rd Quadrant, d = 4th Quadrant \\n Answer:\")\n",
    "answer = answer.strip()\n",
    "if answer.lower() == \"c\":\n",
    "    print('Correct!')\n",
    "    score += 1\n",
    "else:\n",
    "    print(\"Incorrect!\")\n",
    "\n",
    "answer = input(\"The Point(5,-7) is in: \\n a = 1st Quadrant\\n b = 2nd Quadrant\\n c = 3rd Quadrant\\n d = 4th Quadrant\\n Answer: \")\n",
    "answer = answer.strip()\n",
    "if answer.lower() == \"d\":\n",
    "    print('Correct!')\n",
    "else:\n",
    "    print(\"Incorrect!\")"
   ]
  },
  {
   "cell_type": "code",
   "execution_count": null,
   "metadata": {},
   "outputs": [],
   "source": [
    "answer = input(\"\"\"How many translation and rotation axis locks a cylinder: \n",
    "               a = 2T and 2R, \n",
    "               b = 3T and 3R, \n",
    "               c = 1T and 3R, \n",
    "               d = 2T and 1R \\n Answer: \"\"\")\n",
    "answer = answer.strip()\n",
    "if answer.lower() == \"a\":\n",
    "    print('Correct!')\n",
    "    score += 1\n",
    "else:\n",
    "    print(\"Incorrect!\")\n",
    "\n",
    "answer = input(\"The thumb indicates which axis on the Right thumb rule: a = X, b = Y, c = Z \\n Answer:\")\n",
    "answer = answer.strip()\n",
    "if answer.lower() == \"c\":\n",
    "    print('Correct!')\n",
    "    score += 1\n",
    "else:\n",
    "    print(\"Incorrect!\")"
   ]
  },
  {
   "cell_type": "code",
   "execution_count": null,
   "metadata": {},
   "outputs": [],
   "source": [
    "answer = input(\"\"\"What are the most sensible units to use when measuring a fit? \n",
    "               a =Kilometer \n",
    "               b =Dezimeter \n",
    "               c = Micrometer \n",
    "               d =Nanometer \n",
    "               Answer:\"\"\")\n",
    "answer = answer.strip()\n",
    "if answer.lower() == \"c\":\n",
    "    print('Correct!')\n",
    "    score += 1\n",
    "else:\n",
    "    print(\"Incorrect!\")\n",
    "\n",
    "answer = input(\"\"\"What are the most sensible units to use when measuring a fit? a = Meter b = Millimeter c =Zentimeter  d =Nanometer \n",
    "               Answer:\"\"\")\n",
    "answer = answer.strip()\n",
    "if answer.lower() == \"b\":\n",
    "    print('Correct!')\n",
    "    score += 1\n",
    "else:\n",
    "    print(\"Incorrect!\")"
   ]
  },
  {
   "cell_type": "code",
   "execution_count": null,
   "metadata": {},
   "outputs": [],
   "source": [
    "answer = input(\"\"\"Which statement is incorrect? \n",
    "               a = When the axes are perpendicular to another a cartesian coordinate system is established.\n",
    "               b = A point to the left of the Y axis has a positive X coordinate.\n",
    "               Answer:\"\"\")\n",
    "answer = answer.strip()\n",
    "if answer.lower() == \"b\":\n",
    "    print('Correct!')\n",
    "    score += 1\n",
    "else:\n",
    "    print(\"Incorrect!\")\n",
    "\n",
    "answer = input(\"Write an angle for a point in the third quadrant? e.g. 10° \\n Answer:\")\n",
    "answer = answer.replace(',', '.').strip(\"°\")\n",
    "answer_float = float(answer)\n",
    "if 180 <= answer_float <= 270 :\n",
    "    print('Correct!')\n",
    "    score += 1\n",
    "else:\n",
    "    print(\"Incorrect!\")\n"
   ]
  },
  {
   "cell_type": "code",
   "execution_count": null,
   "metadata": {},
   "outputs": [],
   "source": [
    "image_path = r\"image1_question.jpg\"\n",
    "image = Image.open(image_path)\n",
    "image.show()\n",
    "answer = input(\"\"\"Which statement is incorrect?\n",
    "                a = The red coordinate system has first been rotated and then been moved (offset) to get the green coordinate system.\n",
    "                b = The red coordinate system has first been moved (offset) and then been rotated to get the green coordinate system.\"\n",
    "                Answer:\"\"\")\n",
    "image.close()\n",
    "answer = answer.strip()\n",
    "if answer.lower() == \"a\":\n",
    "    print('Correct!')\n",
    "    score += 1\n",
    "else:\n",
    "    print(\"Incorrect!\")"
   ]
  },
  {
   "cell_type": "code",
   "execution_count": null,
   "metadata": {},
   "outputs": [],
   "source": [
    "image_path = r\"image2_question.jpg\"\n",
    "image = Image.open(image_path)\n",
    "image.show()\n",
    "answer = input(\"\"\"Match the type to the diagram!\n",
    "                a Gantry type\n",
    "                b Bridge type\n",
    "                c Cantilever type\n",
    "                d column type\n",
    "                Answer:\"\"\")\n",
    "image.close()\n",
    "answer = answer.strip()\n",
    "if answer.lower() == \"a\":\n",
    "    print('Correct!')\n",
    "    score += 1\n",
    "else:\n",
    "    print(\"Incorrect!\")"
   ]
  },
  {
   "cell_type": "code",
   "execution_count": null,
   "metadata": {},
   "outputs": [],
   "source": [
    "image_path = r\"image3_question.jpg\"\n",
    "image = Image.open(image_path)\n",
    "image.show()\n",
    "answer = input(\"\"\"Match the type to the diagram!\n",
    "                a Gantry type\n",
    "                b Bridge type\n",
    "                c Cantilever type\n",
    "                d column type\n",
    "                Answer:\"\"\")\n",
    "image.close()\n",
    "answer = answer.strip()\n",
    "if answer.lower() == \"c\":\n",
    "    print('Correct!')\n",
    "    score += 1\n",
    "else:\n",
    "    print(\"Incorrect!\")"
   ]
  },
  {
   "cell_type": "code",
   "execution_count": null,
   "metadata": {},
   "outputs": [],
   "source": [
    "expected_answers = [\"spherical\", \"hollow_sphere\", \"disk\", \"cylinder\", \"point\", \"star\"]\n",
    "answer = input(\"\"\"Name three types of styli. If two word answer, use underscore (_)\n",
    "               Answer:\"\"\")\n",
    "user_words = answer.split()\n",
    "\n",
    "crosscheck = [word for word in user_words if word.lower() in expected_answers]\n",
    "\n",
    "if len(crosscheck) >= 3:\n",
    "    print(\"Correct!\")\n",
    "    score += 1\n",
    "else:\n",
    "    print(\"Incorrect.\")"
   ]
  },
  {
   "cell_type": "code",
   "execution_count": null,
   "metadata": {},
   "outputs": [],
   "source": [
    "expected_answers = [\"Through_holes\", \"Edges\"]\n",
    "answer = input(\"\"\"Which types of features can be measured with an image processing sensor\n",
    "                with transmitted light illumination?\n",
    "                Edges\n",
    "                Through_holes\n",
    "                Blind_holes\n",
    "                Horizontal_surfaces\n",
    "               Answer:\"\"\")\n",
    "\n",
    "user_words = set(word.lower() for word in answer.split())\n",
    "expected_answer = [ans.lower() for ans in expected_answers]\n",
    "matching_words = set(user_words) & set(expected_answer)\n",
    "\n",
    "if len(matching_words) >= 2:\n",
    "    print(\"Correct!\")\n",
    "    score += 1\n",
    "else:\n",
    "    print(\"Incorrect.\")"
   ]
  },
  {
   "cell_type": "code",
   "execution_count": null,
   "metadata": {},
   "outputs": [],
   "source": [
    "image_path = r\"image4_question.jpg\"\n",
    "image = Image.open(image_path)\n",
    "image.show()\n",
    "expected_answers = [\"a\", \"d\"]\n",
    "answer = input(\"\"\"Which of the following drawing callouts conforms to specification?\n",
    "               a\n",
    "               b\n",
    "               c\n",
    "               d \\nAnswer:\"\"\")\n",
    "\n",
    "user_words = set(word.lower() for word in answer.split())\n",
    "expected_answer = [ans.lower() for ans in expected_answers]\n",
    "matching_words = set(user_words) & set(expected_answer)\n",
    "\n",
    "if len(matching_words) >= 2:\n",
    "    print(\"Correct!\")\n",
    "    score += 1\n",
    "else:\n",
    "    print(\"Incorrect.\")"
   ]
  },
  {
   "cell_type": "code",
   "execution_count": 36,
   "metadata": {},
   "outputs": [
    {
     "data": {
      "image/png": "[encoded data removed]",
      "text/plain": [
       "<Figure size 640x480 with 1 Axes>"
      ]
     },
     "metadata": {},
     "output_type": "display_data"
    },
    {
     "name": "stdout",
     "output_type": "stream",
     "text": [
      "You got 14 questions correct!\n",
      "You got  70.0%.\n"
     ]
    }
   ],
   "source": [
    "def plot_scores(score):\n",
    "    labels = ['Correct', 'Incorrect']\n",
    "    sizes = [score, 20 - score] # Assuming 18 questions in total\n",
    "    fig, ax = plt.subplots()\n",
    "    ax.pie(sizes, labels=labels, autopct='%1.1f%%', startangle=90, colors=['green', 'red'])\n",
    "    ax.axis('equal')\n",
    "    plt.title(\"Quiz Results\")\n",
    "    plt.show()\n",
    "plot_scores(score)\n",
    "result = round(float((score / 20) * 100) , 1) # Assuming 18 questions in total\n",
    "print(\"You got \" + str(score) + \" questions correct!\")\n",
    "print(f\"You got  {result}%.\") "
   ]
  },
  {
   "cell_type": "code",
   "execution_count": null,
   "metadata": {},
   "outputs": [],
   "source": []
  }
 ],
 "metadata": {
  "kernelspec": {
   "display_name": "Python 3",
   "language": "python",
   "name": "python3"
  },
  "language_info": {
   "codemirror_mode": {
    "name": "ipython",
    "version": 3
   },
   "file_extension": ".py",
   "mimetype": "text/x-python",
   "name": "python",
   "nbconvert_exporter": "python",
   "pygments_lexer": "ipython3",
   "version": "3.11.7"
  }
 },
 "nbformat": 4,
 "nbformat_minor": 2
}
